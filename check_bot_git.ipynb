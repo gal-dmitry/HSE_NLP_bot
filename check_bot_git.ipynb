{
 "cells": [
  {
   "cell_type": "code",
   "execution_count": 1,
   "metadata": {
    "colab": {
     "base_uri": "https://localhost:8080/"
    },
    "executionInfo": {
     "elapsed": 3267,
     "status": "ok",
     "timestamp": 1624271012318,
     "user": {
      "displayName": "Дмитрий Галимзянов",
      "photoUrl": "https://lh3.googleusercontent.com/a-/AOh14GhZ2mpZj6x-74uzGNTk9Ws2YdRT3z-muP6KTkS4zg=s64",
      "userId": "11134509458244039564"
     },
     "user_tz": -180
    },
    "id": "8t-APGL13qVp",
    "outputId": "93cfd3fd-486e-4d88-8e52-e03f50686ed1"
   },
   "outputs": [
    {
     "name": "stdout",
     "output_type": "stream",
     "text": [
      "Collecting natasha\n",
      "  Downloading natasha-1.4.0-py3-none-any.whl (34.4 MB)\n",
      "Collecting pymorphy2\n",
      "  Downloading pymorphy2-0.9.1-py3-none-any.whl (55 kB)\n",
      "Collecting razdel>=0.5.0\n",
      "  Downloading razdel-0.5.0-py3-none-any.whl (21 kB)\n",
      "Collecting ipymarkup>=0.8.0\n",
      "  Downloading ipymarkup-0.9.0-py3-none-any.whl (14 kB)\n",
      "Collecting slovnet>=0.3.0\n",
      "  Downloading slovnet-0.5.0-py3-none-any.whl (49 kB)\n",
      "Collecting navec>=0.9.0\n",
      "  Downloading navec-0.10.0-py3-none-any.whl (23 kB)\n",
      "Collecting yargy>=0.14.0\n",
      "  Downloading yargy-0.15.0-py3-none-any.whl (41 kB)\n",
      "Collecting docopt>=0.6\n",
      "  Downloading docopt-0.6.2.tar.gz (25 kB)\n",
      "Collecting pymorphy2-dicts-ru<3.0,>=2.4\n",
      "  Downloading pymorphy2_dicts_ru-2.4.417127.4579844-py2.py3-none-any.whl (8.2 MB)\n",
      "Collecting dawg-python>=0.7.1\n",
      "  Downloading DAWG_Python-0.7.2-py2.py3-none-any.whl (11 kB)\n",
      "Requirement already satisfied: intervaltree>=3 in c:\\users\\ilya2\\anaconda3\\lib\\site-packages (from ipymarkup>=0.8.0->natasha) (3.1.0)\n",
      "Requirement already satisfied: numpy in c:\\users\\ilya2\\anaconda3\\lib\\site-packages (from slovnet>=0.3.0->natasha) (1.19.2)\n",
      "Requirement already satisfied: sortedcontainers<3.0,>=2.0 in c:\\users\\ilya2\\anaconda3\\lib\\site-packages (from intervaltree>=3->ipymarkup>=0.8.0->natasha) (2.2.2)\n",
      "Building wheels for collected packages: docopt\n",
      "  Building wheel for docopt (setup.py): started\n",
      "  Building wheel for docopt (setup.py): finished with status 'done'\n",
      "  Created wheel for docopt: filename=docopt-0.6.2-py2.py3-none-any.whl size=13709 sha256=6fcffd14b8c19e5284f457a4b81652285596c651d1fcab80bb81daa288437e2f\n",
      "  Stored in directory: c:\\users\\ilya2\\appdata\\local\\pip\\cache\\wheels\\56\\ea\\58\\ead137b087d9e326852a851351d1debf4ada529b6ac0ec4e8c\n",
      "Successfully built docopt\n",
      "Installing collected packages: docopt, pymorphy2-dicts-ru, dawg-python, pymorphy2, razdel, ipymarkup, navec, slovnet, yargy, natasha\n",
      "Successfully installed dawg-python-0.7.2 docopt-0.6.2 ipymarkup-0.9.0 natasha-1.4.0 navec-0.10.0 pymorphy2-0.9.1 pymorphy2-dicts-ru-2.4.417127.4579844 razdel-0.5.0 slovnet-0.5.0 yargy-0.15.0\n"
     ]
    }
   ],
   "source": [
    "!pip install natasha"
   ]
  },
  {
   "cell_type": "code",
   "execution_count": 2,
   "metadata": {
    "colab": {
     "base_uri": "https://localhost:8080/"
    },
    "executionInfo": {
     "elapsed": 3227,
     "status": "ok",
     "timestamp": 1624271016437,
     "user": {
      "displayName": "Дмитрий Галимзянов",
      "photoUrl": "https://lh3.googleusercontent.com/a-/AOh14GhZ2mpZj6x-74uzGNTk9Ws2YdRT3z-muP6KTkS4zg=s64",
      "userId": "11134509458244039564"
     },
     "user_tz": -180
    },
    "id": "YvMLbEks3ZBc",
    "outputId": "5dea5013-d0cc-4a93-9caa-bbcc167fdc6e"
   },
   "outputs": [
    {
     "name": "stdout",
     "output_type": "stream",
     "text": [
      "Requirement already satisfied: pytelegrambotapi in c:\\users\\ilya2\\anaconda3\\lib\\site-packages (3.7.7)\n",
      "Requirement already satisfied: requests in c:\\users\\ilya2\\anaconda3\\lib\\site-packages (from pytelegrambotapi) (2.24.0)\n",
      "Requirement already satisfied: chardet<4,>=3.0.2 in c:\\users\\ilya2\\anaconda3\\lib\\site-packages (from requests->pytelegrambotapi) (3.0.4)\n",
      "Requirement already satisfied: certifi>=2017.4.17 in c:\\users\\ilya2\\anaconda3\\lib\\site-packages (from requests->pytelegrambotapi) (2020.6.20)\n",
      "Requirement already satisfied: idna<3,>=2.5 in c:\\users\\ilya2\\anaconda3\\lib\\site-packages (from requests->pytelegrambotapi) (2.10)\n",
      "Requirement already satisfied: urllib3!=1.25.0,!=1.25.1,<1.26,>=1.21.1 in c:\\users\\ilya2\\anaconda3\\lib\\site-packages (from requests->pytelegrambotapi) (1.25.11)\n"
     ]
    }
   ],
   "source": [
    "!pip install pytelegrambotapi"
   ]
  },
  {
   "cell_type": "code",
   "execution_count": 3,
   "metadata": {
    "colab": {
     "base_uri": "https://localhost:8080/"
    },
    "executionInfo": {
     "elapsed": 3276,
     "status": "ok",
     "timestamp": 1624271022031,
     "user": {
      "displayName": "Дмитрий Галимзянов",
      "photoUrl": "https://lh3.googleusercontent.com/a-/AOh14GhZ2mpZj6x-74uzGNTk9Ws2YdRT3z-muP6KTkS4zg=s64",
      "userId": "11134509458244039564"
     },
     "user_tz": -180
    },
    "id": "-LGk89gSzBjf",
    "outputId": "3532b6c2-9265-46c5-c3c9-0c8ac7fb2802"
   },
   "outputs": [
    {
     "name": "stdout",
     "output_type": "stream",
     "text": [
      "Collecting pyowm\n",
      "  Downloading pyowm-3.2.0-py3-none-any.whl (3.1 MB)\n",
      "Requirement already satisfied: PySocks<2,>=1.7.1 in c:\\users\\ilya2\\anaconda3\\lib\\site-packages (from pyowm) (1.7.1)\n",
      "Collecting geojson<3,>=2.3.0\n",
      "  Downloading geojson-2.5.0-py2.py3-none-any.whl (14 kB)\n",
      "Requirement already satisfied: requests[socks] in c:\\users\\ilya2\\anaconda3\\lib\\site-packages (from pyowm) (2.24.0)\n",
      "Requirement already satisfied: chardet<4,>=3.0.2 in c:\\users\\ilya2\\anaconda3\\lib\\site-packages (from requests[socks]->pyowm) (3.0.4)\n",
      "Requirement already satisfied: certifi>=2017.4.17 in c:\\users\\ilya2\\anaconda3\\lib\\site-packages (from requests[socks]->pyowm) (2020.6.20)\n",
      "Requirement already satisfied: idna<3,>=2.5 in c:\\users\\ilya2\\anaconda3\\lib\\site-packages (from requests[socks]->pyowm) (2.10)\n",
      "Requirement already satisfied: urllib3!=1.25.0,!=1.25.1,<1.26,>=1.21.1 in c:\\users\\ilya2\\anaconda3\\lib\\site-packages (from requests[socks]->pyowm) (1.25.11)\n",
      "Installing collected packages: geojson, pyowm\n",
      "Successfully installed geojson-2.5.0 pyowm-3.2.0\n"
     ]
    }
   ],
   "source": [
    "!pip install pyowm"
   ]
  },
  {
   "cell_type": "code",
   "execution_count": null,
   "metadata": {
    "colab": {
     "base_uri": "https://localhost:8080/"
    },
    "executionInfo": {
     "elapsed": 305,
     "status": "ok",
     "timestamp": 1624271034894,
     "user": {
      "displayName": "Дмитрий Галимзянов",
      "photoUrl": "https://lh3.googleusercontent.com/a-/AOh14GhZ2mpZj6x-74uzGNTk9Ws2YdRT3z-muP6KTkS4zg=s64",
      "userId": "11134509458244039564"
     },
     "user_tz": -180
    },
    "id": "qDdhJDK2yrZe",
    "outputId": "ad00e617-a087-4e7a-dae7-6b06af12c547"
   },
   "outputs": [
    {
     "name": "stdout",
     "output_type": "stream",
     "text": [
      "Drive already mounted at /content/drive; to attempt to forcibly remount, call drive.mount(\"/content/drive\", force_remount=True).\n"
     ]
    }
   ],
   "source": [
    "from google.colab import drive\n",
    "drive.mount('/content/drive')"
   ]
  },
  {
   "cell_type": "code",
   "execution_count": null,
   "metadata": {
    "colab": {
     "base_uri": "https://localhost:8080/"
    },
    "executionInfo": {
     "elapsed": 204,
     "status": "ok",
     "timestamp": 1624278923354,
     "user": {
      "displayName": "Дмитрий Галимзянов",
      "photoUrl": "https://lh3.googleusercontent.com/a-/AOh14GhZ2mpZj6x-74uzGNTk9Ws2YdRT3z-muP6KTkS4zg=s64",
      "userId": "11134509458244039564"
     },
     "user_tz": -180
    },
    "id": "_-NHjQyXypQy",
    "outputId": "7c7a3b5a-9d26-4f80-c1c5-194959193d1e"
   },
   "outputs": [
    {
     "name": "stdout",
     "output_type": "stream",
     "text": [
      "/content/drive/MyDrive/NLP_bot\n"
     ]
    }
   ],
   "source": [
    "PATH = '/content/drive/MyDrive/NLP_bot'\n",
    "%cd {PATH}"
   ]
  },
  {
   "cell_type": "code",
   "execution_count": 1,
   "metadata": {
    "colab": {
     "base_uri": "https://localhost:8080/"
    },
    "executionInfo": {
     "elapsed": 1783,
     "status": "ok",
     "timestamp": 1624280559230,
     "user": {
      "displayName": "Дмитрий Галимзянов",
      "photoUrl": "https://lh3.googleusercontent.com/a-/AOh14GhZ2mpZj6x-74uzGNTk9Ws2YdRT3z-muP6KTkS4zg=s64",
      "userId": "11134509458244039564"
     },
     "user_tz": -180
    },
    "id": "sAFEn1VVx3YH",
    "outputId": "08bbecc4-e3a2-49c6-daec-5bb60f41bd7d"
   },
   "outputs": [],
   "source": [
    "%load_ext autoreload\n",
    "%autoreload 2\n",
    "\n",
    "OWM_API_KEY = '###'\n",
    "TELEBOT_KEY = '###'\n",
    "\n",
    "from utils_for_bot import Bot\n",
    "\n",
    "from repliques import REPLIQUES\n",
    "from style_init import style_init\n",
    "\n",
    "from talkers import Greeting\n",
    "from talkers import Bye\n",
    "from talkers import Presentation\n",
    "from talkers import Alert\n",
    "from talkers import Unknown\n",
    "from talkers import Weather\n",
    "from talkers import Anecdote\n",
    "from talkers import Distance"
   ]
  },
  {
   "cell_type": "code",
   "execution_count": 2,
   "metadata": {},
   "outputs": [],
   "source": [
    "d_style = style_init()"
   ]
  },
  {
   "cell_type": "code",
   "execution_count": 3,
   "metadata": {
    "id": "CVujVS0xe1zT"
   },
   "outputs": [],
   "source": [
    "bye = Bye('bye', REPLIQUES['bye'], d_style['bye'])\n",
    "unknown = Unknown('unknown', REPLIQUES['unknown'], d_style['unknown'])\n",
    "greeting = Greeting('greetings', REPLIQUES['greetings'], d_style['greetings'])\n",
    "presentation = Presentation('presentation', REPLIQUES['presentation'], d_style['presentation'])\n",
    "\n",
    "alert = Alert('alert', REPLIQUES['alert'])\n",
    "distance = Distance('distance', REPLIQUES['distance'])\n",
    "anecdote = Anecdote('anecdote', REPLIQUES['anecdote'])\n",
    "\n",
    "weather = Weather('weather', REPLIQUES['weather'], OWM_API_KEY)"
   ]
  },
  {
   "cell_type": "code",
   "execution_count": 4,
   "metadata": {
    "id": "rM3nDGId7sIM"
   },
   "outputs": [],
   "source": [
    "BOT = Bot(TELEBOT_KEY)\n",
    "BOT.add_talker(greeting)\n",
    "BOT.add_talker(bye)\n",
    "BOT.add_talker(presentation)\n",
    "BOT.add_talker(alert)\n",
    "BOT.add_talker(weather)\n",
    "BOT.add_talker(unknown)\n",
    "BOT.add_talker(anecdote)\n",
    "BOT.add_talker(distance)"
   ]
  },
  {
   "cell_type": "code",
   "execution_count": 5,
   "metadata": {
    "colab": {
     "base_uri": "https://localhost:8080/"
    },
    "executionInfo": {
     "elapsed": 102265,
     "status": "ok",
     "timestamp": 1624280667706,
     "user": {
      "displayName": "Дмитрий Галимзянов",
      "photoUrl": "https://lh3.googleusercontent.com/a-/AOh14GhZ2mpZj6x-74uzGNTk9Ws2YdRT3z-muP6KTkS4zg=s64",
      "userId": "11134509458244039564"
     },
     "user_tz": -180
    },
    "id": "Jk1YMQ7S79Z6",
    "outputId": "776eaf9d-eb7a-4a23-fe28-bea2ed6ef91e"
   },
   "outputs": [],
   "source": [
    "BOT.bot.polling(none_stop=True)"
   ]
  }
 ],
 "metadata": {
  "colab": {
   "collapsed_sections": [],
   "name": "check_bot_git.ipynb\"",
   "provenance": [
    {
     "file_id": "1pmjwheJpi9Sd_zLKgNjn1F0NVwB5jxI9",
     "timestamp": 1624276965782
    },
    {
     "file_id": "1FYaiYEyahwNKNl8xeWNW2bh7dIqF5bNz",
     "timestamp": 1624264131922
    },
    {
     "file_id": "11o-kNTmVnKzGSUt7XcPzPBe9kbQDChfo",
     "timestamp": 1624227553892
    }
   ]
  },
  "kernelspec": {
   "display_name": "Python 3",
   "language": "python",
   "name": "python3"
  },
  "language_info": {
   "codemirror_mode": {
    "name": "ipython",
    "version": 3
   },
   "file_extension": ".py",
   "mimetype": "text/x-python",
   "name": "python",
   "nbconvert_exporter": "python",
   "pygments_lexer": "ipython3",
   "version": "3.8.5"
  }
 },
 "nbformat": 4,
 "nbformat_minor": 1
}
